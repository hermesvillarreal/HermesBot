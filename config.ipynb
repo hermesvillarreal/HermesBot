{
  "nbformat": 4,
  "nbformat_minor": 0,
  "metadata": {
    "colab": {
      "provenance": [],
      "authorship_tag": "ABX9TyMkmeTnk8UJ8s+j5Cf7ksO0",
      "include_colab_link": true
    },
    "kernelspec": {
      "name": "python3",
      "display_name": "Python 3"
    },
    "language_info": {
      "name": "python"
    }
  },
  "cells": [
    {
      "cell_type": "markdown",
      "metadata": {
        "id": "view-in-github",
        "colab_type": "text"
      },
      "source": [
        "<a href=\"https://colab.research.google.com/github/hermesvillarreal/HermesBot/blob/main/config.ipynb\" target=\"_parent\"><img src=\"https://colab.research.google.com/assets/colab-badge.svg\" alt=\"Open In Colab\"/></a>"
      ]
    },
    {
      "cell_type": "code",
      "execution_count": null,
      "metadata": {
        "id": "3Tnvx7xzhpCR"
      },
      "outputs": [],
      "source": [
        "TELEGRAM_TOKEN = \"5722080247:AAEIMlNJ9I7K9yVBjgCHL4KL82VL3iH2Pfk\" # from config import *\n",
        "files_dict = {'audios': ['.mp3'], 'videos': ['.mp4'], 'imagenes': ['.jpg','.png','.bmp']}\n",
        "files_nodocs = []\n",
        "for fd in files_dict.keys():\n",
        "  files_nodocs.extend(files_dict[fd]) \n"
      ]
    }
  ]
}